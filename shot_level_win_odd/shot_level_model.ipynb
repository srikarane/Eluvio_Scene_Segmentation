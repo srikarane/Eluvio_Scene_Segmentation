{
  "nbformat": 4,
  "nbformat_minor": 0,
  "metadata": {
    "colab": {
      "name": "shot_level_model",
      "provenance": [],
      "machine_shape": "hm"
    },
    "kernelspec": {
      "name": "python3",
      "display_name": "Python 3"
    },
    "accelerator": "TPU"
  },
  "cells": [
    {
      "cell_type": "markdown",
      "metadata": {
        "id": "FMuzzwuq8i_Q"
      },
      "source": [
        "**Author:** Srikaran Elakurthy\n",
        "\n",
        "**Description:**\n",
        "\n",
        "The current algorithm trains a Neural network to predict a shot would become a scene boundary. This prediction is done by analysing the different movie shots. \n",
        "\n",
        "Horizontally stacked the Place,cast,audio and action features for each shot.\n",
        "\n",
        "1.   Considers an odd sliding window and stacks the before and after shots equally. For example if we selected shot number as 7 and sliding window as 5 then shot no: 7 will be middle and stacks 2 before and 2 after shot number 7 so we will end up by transforming shot 7 to the stack of Shot 5,6,7,8,9.\n",
        "2. The convolution layers captures the clip level information and LSTM's Predict at segment level.\n",
        "3. Here Window is choosen odd so that the selected shot which we are going to predict always will be at middle and takes equally information from both sides. \n",
        "4. Padding is done at movie level.\n",
        "5.   The model architecture is at the bottom of this ipynb file.\n",
        "6.  Here we considered Focal Loss as our Loss function due to Class Imbalance dataset.\n",
        "\n",
        "\n",
        "**Metrics:**\n",
        "The best Miou we got 0.415\n",
        "\n",
        "\"AP\": 0.28762087786953594,\n",
        "\n",
        "\"mAP\": 0.30561978666460493,\n",
        "\n",
        "\"Miou\": 0.4154056818628524,\n",
        "\n",
        "\"Precision\": 0.23037025394539037,\n",
        "\n",
        "\"Recall\": 0.5997108519077301,\n",
        "\n",
        "\"F1\": 0.32656730526410743\n",
        "\n",
        "\n"
      ]
    },
    {
      "cell_type": "code",
      "metadata": {
        "id": "8orfspDF4yYV"
      },
      "source": [
        "pip install focal-loss"
      ],
      "execution_count": null,
      "outputs": []
    },
    {
      "cell_type": "code",
      "metadata": {
        "id": "QJwuOnj5pAoq"
      },
      "source": [
        "import os\n",
        "import sys\n",
        "import glob\n",
        "import json\n",
        "import pickle\n",
        "import torch\n",
        "import tensorflow as tf\n",
        "import numpy as np\n",
        "from sklearn.metrics import average_precision_score\n",
        "from sklearn.model_selection import train_test_split\n",
        "from sklearn.preprocessing import LabelEncoder\n",
        "import keras\n",
        "from keras.layers.core import SpatialDropout1D\n",
        "from keras.layers.core import Dropout\n",
        "from keras.layers.recurrent import LSTM\n",
        "from keras.callbacks import ModelCheckpoint, EarlyStopping\n",
        "from keras.layers import Conv1D, GlobalMaxPooling1D\n",
        "from keras.layers import Dense, Activation, Flatten\n",
        "from keras.layers import MaxPooling1D\n",
        "from keras.models import Sequential\n",
        "from keras.layers import Dense\n",
        "from tensorflow.keras.callbacks import EarlyStopping\n",
        "from keras.utils import to_categorical \n",
        "import random\n",
        "import torch\n",
        "from focal_loss import BinaryFocalLoss\n"
      ],
      "execution_count": null,
      "outputs": []
    },
    {
      "cell_type": "code",
      "metadata": {
        "id": "nI_6vHTApJzd"
      },
      "source": [
        "#Load Train and test datasets and intializing window as 7\n",
        "sourcefolder='/content/drive/MyDrive/eluvio/eluvio'\n",
        "fd=open('{}/split_data/train_raw_data.pkl'.format(sourcefolder),'rb')\n",
        "train_raw_data=pickle.load(fd)\n",
        "fd.close()\n",
        "fd=open('{}/split_data/test_raw_data.pkl'.format(sourcefolder),'rb')\n",
        "test_raw_data=pickle.load(fd)\n",
        "fd.close()\n",
        "window=7"
      ],
      "execution_count": null,
      "outputs": []
    },
    {
      "cell_type": "code",
      "metadata": {
        "id": "K4nFJ4NypJwj"
      },
      "source": [
        "def calc_ap(gt_dict, pr_dict):\n",
        "    \"\"\"Average Precision (AP) for scene transitions.\n",
        "    Args:\n",
        "        gt_dict: Scene transition ground-truths.\n",
        "        pr_dict: Scene transition predictions.\n",
        "    Returns:\n",
        "        AP, mean AP, and a dict of AP for each movie.\n",
        "    \"\"\"\n",
        "    \n",
        "    assert gt_dict.keys() == pr_dict.keys()\n",
        "    \n",
        "    AP_dict = dict()\n",
        "    gt = list()\n",
        "    pr = list()\n",
        "    for imdb_id in gt_dict.keys():\n",
        "        \n",
        "        AP_dict[imdb_id] = average_precision_score(gt_dict[imdb_id], pr_dict[imdb_id])\n",
        "        gt.append(gt_dict[imdb_id])\n",
        "        pr.append(pr_dict[imdb_id])\n",
        "\n",
        "    mAP = sum(AP_dict.values()) / len(AP_dict)\n",
        "\n",
        "    gt = np.concatenate(gt)\n",
        "    pr = np.concatenate(pr)\n",
        "    AP = average_precision_score(gt, pr)\n",
        "\n",
        "    return AP, mAP, AP_dict\n",
        "\n",
        "\n",
        "def calc_miou(gt_dict, pr_dict, shot_to_end_frame_dict, threshold=0.5):\n",
        "    \"\"\"Maximum IoU (Miou) for scene segmentation.\n",
        "    Miou measures how well the predicted scenes and ground-truth scenes overlap. The descriptions can be found in\n",
        "    https://arxiv.org/pdf/1510.08893.pdf. Note the length of intersection or union is measured by the number of frames.\n",
        "    Args:\n",
        "        gt_dict: Scene transition ground-truths.\n",
        "        pr_dict: Scene transition predictions.\n",
        "        shot_to_end_frame_dict: End frame index for each shot.\n",
        "        threshold: A threshold to filter the predictions.\n",
        "    Returns:\n",
        "        Mean MIoU, and a dict of MIoU for each movie.\n",
        "    \"\"\"\n",
        "    def iou(x, y):\n",
        "        s0, e0 = x\n",
        "        s1, e1 = y\n",
        "        smin, smax = (s0, s1) if s1 > s0 else (s1, s0)\n",
        "        emin, emax = (e0, e1) if e1 > e0 else (e1, e0)\n",
        "        return (emin - smax + 1) / (emax - smin + 1)\n",
        "\n",
        "    def scene_frame_ranges(scene_transitions, shot_to_end_frame):\n",
        "        end_shots = np.where(scene_transitions)[0]\n",
        "        scenes = np.zeros((len(end_shots) + 1, 2), dtype=end_shots.dtype)\n",
        "        scenes[:-1, 1] = shot_to_end_frame[end_shots]\n",
        "        scenes[-1, 1] = shot_to_end_frame[len(scene_transitions)]\n",
        "        scenes[1:, 0] = scenes[:-1, 1] + 1\n",
        "        return scenes\n",
        "\n",
        "    def miou(gt_array, pr_array, shot_to_end_frame):\n",
        "        gt_scenes = scene_frame_ranges(gt_array, shot_to_end_frame)\n",
        "        pr_scenes = scene_frame_ranges(pr_array >= threshold, shot_to_end_frame)\n",
        "        assert gt_scenes[-1, -1] == pr_scenes[-1, -1]\n",
        "\n",
        "        m = gt_scenes.shape[0]\n",
        "        n = pr_scenes.shape[0]\n",
        "\n",
        "        # IoU for (gt_scene, pr_scene) pairs\n",
        "        iou_table = np.zeros((m, n))\n",
        "\n",
        "        j = 0\n",
        "        for i in range(m):\n",
        "            # j start prior to i end\n",
        "            while pr_scenes[j, 0] <= gt_scenes[i, 1]:\n",
        "                iou_table[i, j] = iou(gt_scenes[i], pr_scenes[j])\n",
        "                if j < n - 1:\n",
        "                    j += 1\n",
        "                else:\n",
        "                    break\n",
        "            # j end prior to (i + 1) start\n",
        "            if pr_scenes[j, 1] < gt_scenes[i, 1] + 1:\n",
        "                break\n",
        "            # j start later than (i + 1) start\n",
        "            if pr_scenes[j, 0] > gt_scenes[i, 1] + 1:\n",
        "                j -= 1\n",
        "        assert np.isnan(iou_table).sum() == 0\n",
        "        assert iou_table.min() >= 0\n",
        "\n",
        "        # Miou\n",
        "        return (iou_table.max(axis=0).mean() + iou_table.max(axis=1).mean()) / 2\n",
        "\n",
        "    assert gt_dict.keys() == pr_dict.keys()\n",
        "\n",
        "    miou_dict = dict()\n",
        "\n",
        "    for imdb_id in gt_dict.keys():\n",
        "        miou_dict[imdb_id] = miou(gt_dict[imdb_id], pr_dict[imdb_id], shot_to_end_frame_dict[imdb_id])\n",
        "    mean_miou = sum(miou_dict.values()) / len(miou_dict)\n",
        "\n",
        "    return mean_miou, miou_dict\n",
        "\n",
        "\n",
        "def calc_precision_recall(gt_dict, pr_dict, threshold=0.5):\n",
        "    \"\"\"Precision, Recall and F1 for scene transitions at a given threshold.\n",
        "    Args:\n",
        "        gt_dict: Scene transition ground-truths.\n",
        "        pr_dict: Scene transition predictions.\n",
        "        threshold: A threshold to filter the predictions.\n",
        "    Returns:\n",
        "        Mean Precision, Recall, and F1, per IMDB ID Precisions, Recalls, and F1 scores.\n",
        "    \"\"\"\n",
        "    def precision_recall(gt_array, pr_array):\n",
        "        tp_fn = gt_array == 1\n",
        "        tp_fp = pr_array >= threshold\n",
        "\n",
        "        tps = (tp_fn & tp_fp).sum()\n",
        "\n",
        "        precision = tps / tp_fp.sum()\n",
        "        recall = tps / tp_fn.sum()\n",
        "\n",
        "        return np.nan_to_num(precision), np.nan_to_num(recall)\n",
        "\n",
        "    assert gt_dict.keys() == pr_dict.keys()\n",
        "\n",
        "    precision_dict = dict()\n",
        "    recall_dict = dict()\n",
        "    fscore_dict = dict()\n",
        "\n",
        "    for imdb_id in gt_dict.keys():\n",
        "        p, r = precision_recall(gt_dict[imdb_id], pr_dict[imdb_id])\n",
        "        precision_dict[imdb_id] = p\n",
        "        recall_dict[imdb_id] = r\n",
        "        fscore_dict[imdb_id] = 2 * p * r / (p + r)\n",
        "\n",
        "    n = len(gt_dict)\n",
        "    mean_precision = sum(precision_dict.values()) / n\n",
        "    mean_recall = sum(recall_dict.values()) / n\n",
        "    mean_fscore = sum(fscore_dict.values()) / n\n",
        "\n",
        "    return mean_precision, mean_recall, mean_fscore, precision_dict, recall_dict, fscore_dict"
      ],
      "execution_count": null,
      "outputs": []
    },
    {
      "cell_type": "code",
      "metadata": {
        "id": "FImNgT5d4653"
      },
      "source": [
        "#Extracts shot level data from each movie and performs window operation \n",
        "#Padding is also performed at movie level if we consider first shot and our window is 8 \n",
        "#then for first shot padding length of 3 shots is done before the shot\n",
        "def preprocess_and_transform_odd(window,movie_raw_data,train_data=True):\n",
        "  \"\"\"Extracts the shot information and stack the before and after shots to capture the clip level information.\n",
        "    Args:\n",
        "        window: Size of the sliding window .\n",
        "        movie_raw_data: Movie data.\n",
        "        train_data: (Boolean)If the movie raw data is a trian data or test data.\n",
        "    Returns:\n",
        "        Transformed shot level tensors and ground truths for each shots\n",
        "    \"\"\"\n",
        "  padding_len=int((window-1)/2)\n",
        "  shot_level=[]\n",
        "  \n",
        "  movies=list(movie_raw_data.keys())\n",
        "  ground_truth_lst=[]\n",
        "  movie_level=dict()\n",
        "  for movie_file in movies:\n",
        "    shot_place_tensor=movie_raw_data[movie_file]['place'][:-1]\n",
        "    shot_action_tensor=movie_raw_data[movie_file]['action'][:-1]\n",
        "    shot_audio_tensor=movie_raw_data[movie_file]['audio'][:-1]\n",
        "    shot_cast_tensor=movie_raw_data[movie_file]['cast'][:-1]\n",
        "    shot_tensor=torch.hstack((shot_place_tensor,shot_action_tensor,shot_audio_tensor,shot_cast_tensor))\n",
        "    ground_truth_lst.append(movie_raw_data[movie_file]['scene_transition_boundary_ground_truth'])\n",
        "    shot_test=[]\n",
        "    for t in range(0,shot_tensor.shape[0]):\n",
        "    #print(t)\n",
        "      if (t==0) or ((t+padding_len)>(shot_tensor.shape[0]-1)) or ((t-padding_len)<0):\n",
        "        #print(shot_tensor.shape[1])\n",
        "        #print(padding_len)\n",
        "        zerotensor = torch.zeros((padding_len,shot_tensor.shape[1]))\n",
        "        if t==0:\n",
        "          #print(t)\n",
        "          temp=torch.vstack((zerotensor,shot_tensor[t]))\n",
        "          shot=torch.vstack((temp,shot_tensor[t+1:t+padding_len+1]))\n",
        "        elif t== (shot_tensor.shape[0]-1):\n",
        "          #print(t)\n",
        "          temp=torch.vstack((shot_tensor[t-padding_len:t],shot_tensor[t]))\n",
        "          shot=torch.vstack((temp,zerotensor))\n",
        "        elif (t+padding_len+1)>(shot_tensor.shape[0]-1):\n",
        "          #print(t)\n",
        "          \n",
        "          zerotensor = torch.zeros(((t+padding_len)-(shot_tensor.shape[0]-1)),shot_tensor.shape[1])\n",
        "          #print(zerotensor.shape)\n",
        "          #temp=torch.vstack((shot_tensor[t-padding_len:t],shot_tensor[t]))\n",
        "          #print(\"temp:\",temp.shape)\n",
        "          \n",
        "          shot=torch.vstack((shot_tensor[(t-padding_len):(shot_tensor.shape[0])],zerotensor))\n",
        "        elif (t-padding_len)<0:\n",
        "          zerotensor = torch.zeros((padding_len-t,shot_tensor.shape[1]))\n",
        "          #print(t)\n",
        "          \n",
        "          temp=torch.vstack((zerotensor,shot_tensor[0:t]))\n",
        "          shot=torch.vstack((temp,shot_tensor[t:t+padding_len+1]))\n",
        "\n",
        "        #print(shot.shape)\n",
        "      else:\n",
        "        shot=shot_tensor[t-padding_len:t+padding_len+1]\n",
        "      if train_data==False:\n",
        "        shot_test.append(shot)\n",
        "      shot_level.append(shot)\n",
        "    if train_data==False:\n",
        "      test_shot_level=torch.stack(shot_test)\n",
        "      movie_level[movie_file]={}\n",
        "      movie_level[movie_file]['shot_tensor']=test_shot_level\n",
        "      movie_level[movie_file]['ground_truth']=movie_raw_data[movie_file]['scene_transition_boundary_ground_truth']\n",
        "      movie_level[movie_file]['shot_end_frame']=movie_raw_data[movie_file]['shot_end_frame']\n",
        "  if train_data == True:\n",
        "    shot_level=torch.stack(shot_level)\n",
        "    ground_truth_tensor=torch.cat(ground_truth_lst)\n",
        "    return shot_level,ground_truth_tensor\n",
        "  else:\n",
        "    return movie_level\n"
      ],
      "execution_count": null,
      "outputs": []
    },
    {
      "cell_type": "code",
      "metadata": {
        "id": "p_sv926I4-Zk"
      },
      "source": [
        "def predict(test_movies,trained_model):\n",
        "  \"\"\"Takes the transformed testdata where shots are stacked with window operation and transforms to pytorch tensors \n",
        "  to the Tensorflow tensors and predict scene boundary for each shot\n",
        "    Args:\n",
        "        test_movies: transformed testdata where shots are stacked with window.\n",
        "        trained_model: Model used for predicting the shot\n",
        "        \n",
        "    Returns:\n",
        "        ground truths, predictions of each shot for movies and shot end frames for each movie. \n",
        "    \"\"\"\n",
        "  gt_dict = dict()\n",
        "  pr_dict = dict()\n",
        "  shot_to_end_frame_dict = dict()\n",
        "\n",
        "  for test_mov in test_movies:\n",
        "    test_X=test_movies[test_mov]['shot_tensor']\n",
        "    test_Y=test_movies[test_mov]['ground_truth']\n",
        "    test_X_np=test_X.numpy()\n",
        "    test_X=tf.convert_to_tensor(test_X_np)\n",
        "    y_pred=trained_model.predict(test_X)\n",
        "    \n",
        "    \n",
        "    gt_dict[test_mov] = test_Y\n",
        "    pr_dict[test_mov] = torch.from_numpy(y_pred).flatten()\n",
        "    shot_to_end_frame_dict[test_mov] = test_movies[test_mov][\"shot_end_frame\"]\n",
        "  \n",
        "  return gt_dict,pr_dict,shot_to_end_frame_dict\n"
      ],
      "execution_count": null,
      "outputs": []
    },
    {
      "cell_type": "code",
      "metadata": {
        "id": "RuoouI1MpJtP"
      },
      "source": [
        "#Preparing and transforming the train data to shot level with window as 7\n",
        "\n",
        "train_X,train_Y=preprocess_and_transform_odd(window,train_raw_data,train_data=True)\n"
      ],
      "execution_count": null,
      "outputs": []
    },
    {
      "cell_type": "code",
      "metadata": {
        "id": "Xo92wA0LpJj4"
      },
      "source": [
        "#Converts Train Pytorch tensor to TensorFlow Tensor and labeling the ground truths\n",
        "\n",
        "train_X_np=train_X.numpy()\n",
        "train_Y_np=train_Y.numpy()\n",
        "encoder = LabelEncoder()\n",
        "encoder.fit(train_Y_np)\n",
        "train_Y = encoder.transform(train_Y_np)\n",
        "train_X=tf.convert_to_tensor(train_X_np)\n",
        "train_Y=tf.convert_to_tensor(train_Y)\n"
      ],
      "execution_count": null,
      "outputs": []
    },
    {
      "cell_type": "code",
      "metadata": {
        "id": "1OBpOtUGpt25"
      },
      "source": [
        "#building the Neural Network Model using CNNs and LSTM's. Detailed description of architecture is provided at the end of the program. \n",
        "# Due toClass imbalance we are using Focal loss .\n",
        "early_stopping = EarlyStopping(monitor='val_loss', patience=5)\n",
        "model = Sequential()\n",
        "model.add(Conv1D(filters=100, kernel_size=5,padding='valid', activation='relu', input_shape=(11,3584)))\n",
        "model.add(Conv1D(filters=100, kernel_size=5,padding='valid',strides=1, activation='relu'))\n",
        "model.add(Dropout(0.3))\n",
        "model.add(MaxPooling1D(pool_size=2))\n",
        "model.add(LSTM(100))\n",
        "model.add(Flatten())\n",
        "model.add(Dense(100, activation='relu'))\n",
        "model.add(Dense(1, activation='sigmoid'))\n",
        "model.compile(loss=BinaryFocalLoss(pos_weight = 9, gamma = 2.5), optimizer='adam', metrics=['accuracy'])"
      ],
      "execution_count": null,
      "outputs": []
    },
    {
      "cell_type": "code",
      "metadata": {
        "colab": {
          "base_uri": "https://localhost:8080/"
        },
        "id": "nyn3DpsppzM4",
        "outputId": "735edd5e-4ca6-4c90-87f2-99846e0a9975"
      },
      "source": [
        "#Due to early Stopping and patience value set to 5 the epochs ended at 12\n",
        "\n",
        "epochs = 100\n",
        "batch_size = 128\n",
        "\n",
        "history = model.fit(train_X, train_Y, epochs=epochs, batch_size=batch_size,validation_split=0.2,callbacks=[early_stopping])"
      ],
      "execution_count": null,
      "outputs": [
        {
          "output_type": "stream",
          "text": [
            "Epoch 1/100\n",
            "536/536 [==============================] - 37s 64ms/step - loss: 0.1971 - accuracy: 0.7636 - val_loss: 0.1744 - val_accuracy: 0.7519\n",
            "Epoch 2/100\n",
            "536/536 [==============================] - 34s 64ms/step - loss: 0.1788 - accuracy: 0.7280 - val_loss: 0.1677 - val_accuracy: 0.7310\n",
            "Epoch 3/100\n",
            "536/536 [==============================] - 35s 65ms/step - loss: 0.1713 - accuracy: 0.7057 - val_loss: 0.1615 - val_accuracy: 0.7452\n",
            "Epoch 4/100\n",
            "536/536 [==============================] - 34s 63ms/step - loss: 0.1607 - accuracy: 0.7520 - val_loss: 0.1669 - val_accuracy: 0.6489\n",
            "Epoch 5/100\n",
            "536/536 [==============================] - 33s 62ms/step - loss: 0.1588 - accuracy: 0.7430 - val_loss: 0.1643 - val_accuracy: 0.6180\n",
            "Epoch 6/100\n",
            "536/536 [==============================] - 34s 63ms/step - loss: 0.1568 - accuracy: 0.7487 - val_loss: 0.1622 - val_accuracy: 0.8064\n",
            "Epoch 7/100\n",
            "536/536 [==============================] - 33s 61ms/step - loss: 0.1489 - accuracy: 0.7658 - val_loss: 0.1586 - val_accuracy: 0.7849\n",
            "Epoch 8/100\n",
            "536/536 [==============================] - 36s 67ms/step - loss: 0.1459 - accuracy: 0.7706 - val_loss: 0.1755 - val_accuracy: 0.8198\n",
            "Epoch 9/100\n",
            "536/536 [==============================] - 34s 63ms/step - loss: 0.1413 - accuracy: 0.7911 - val_loss: 0.1825 - val_accuracy: 0.7588\n",
            "Epoch 10/100\n",
            "536/536 [==============================] - 34s 64ms/step - loss: 0.1392 - accuracy: 0.7743 - val_loss: 0.1595 - val_accuracy: 0.8307\n",
            "Epoch 11/100\n",
            "536/536 [==============================] - 34s 63ms/step - loss: 0.1360 - accuracy: 0.7964 - val_loss: 0.1824 - val_accuracy: 0.8686\n",
            "Epoch 12/100\n",
            "536/536 [==============================] - 36s 67ms/step - loss: 0.1291 - accuracy: 0.8003 - val_loss: 0.1641 - val_accuracy: 0.7742\n"
          ],
          "name": "stdout"
        }
      ]
    },
    {
      "cell_type": "code",
      "metadata": {
        "id": "rf3syZSDmfpw"
      },
      "source": [
        "#saving the model\n",
        "model.save(\"{}/shot_level_win_odd/shot_level_win_7.h5\".format(sourcefolder))"
      ],
      "execution_count": null,
      "outputs": []
    },
    {
      "cell_type": "code",
      "metadata": {
        "id": "KvLHbCPk64AT"
      },
      "source": [
        "#Loading the Model\n",
        "model_7=tf.keras.models.load_model(\"{}/shot_level_win_odd/shot_level_win_7.h5\".format(sourcefolder))"
      ],
      "execution_count": null,
      "outputs": []
    },
    {
      "cell_type": "code",
      "metadata": {
        "id": "HIHEOSre6Amo"
      },
      "source": [
        "#Transforming the test raw data\n",
        "test_transform=preprocess_and_transform_odd(11,test_raw_data,train_data=False)"
      ],
      "execution_count": null,
      "outputs": []
    },
    {
      "cell_type": "code",
      "metadata": {
        "id": "I2adS09wp0ED"
      },
      "source": [
        "#Predicting the shot is a scene boundary or not\n",
        "gt_dict,pr_dict,shot_to_end_frame_dict=predict(test_transform,model_7)"
      ],
      "execution_count": null,
      "outputs": []
    },
    {
      "cell_type": "code",
      "metadata": {
        "colab": {
          "base_uri": "https://localhost:8080/"
        },
        "id": "-scM1ydoVRJ0",
        "outputId": "f16f47fb-430f-4907-c097-177ed57bad36"
      },
      "source": [
        "#Metrics\n",
        "scores = dict()\n",
        "scores[\"AP\"], scores[\"mAP\"], _ = calc_ap(gt_dict, pr_dict)\n",
        "scores[\"Miou\"], _ = calc_miou(gt_dict, pr_dict, shot_to_end_frame_dict)\n",
        "scores[\"Precision\"], scores[\"Recall\"], scores[\"F1\"], *_ = calc_precision_recall(gt_dict, pr_dict)\n",
        "\n",
        "print(\"Scores:\", json.dumps(scores, indent=4))"
      ],
      "execution_count": null,
      "outputs": [
        {
          "output_type": "stream",
          "text": [
            "Scores: {\n",
            "    \"AP\": 0.28762087786953594,\n",
            "    \"mAP\": 0.30561978666460493,\n",
            "    \"Miou\": 0.4154056818628524,\n",
            "    \"Precision\": 0.23037025394539037,\n",
            "    \"Recall\": 0.5997108519077301,\n",
            "    \"F1\": 0.32656730526410743\n",
            "}\n"
          ],
          "name": "stdout"
        }
      ]
    },
    {
      "cell_type": "code",
      "metadata": {
        "colab": {
          "base_uri": "https://localhost:8080/",
          "height": 758
        },
        "id": "I_L4cQWq9Xsk",
        "outputId": "06af8c90-6be0-492e-b831-9763650fec69"
      },
      "source": [
        "from keras.utils import plot_model\n",
        "plot_model(model_7, to_file='{}/shot_level_win_odd/model_shot_level_7.png'.format(sourcefolder))"
      ],
      "execution_count": null,
      "outputs": [
        {
          "output_type": "execute_result",
          "data": {
            "image/png": "[encoded data removed]",
            "text/plain": [
              "<IPython.core.display.Image object>"
            ]
          },
          "metadata": {
            "tags": []
          },
          "execution_count": 31
        }
      ]
    },
    {
      "cell_type": "code",
      "metadata": {
        "colab": {
          "base_uri": "https://localhost:8080/"
        },
        "id": "tXERFERR-GuG",
        "outputId": "f2f34797-29f9-4b5b-8c97-9d28d10b7352"
      },
      "source": [
        "model_7.summary()"
      ],
      "execution_count": null,
      "outputs": [
        {
          "output_type": "stream",
          "text": [
            "Model: \"sequential_11\"\n",
            "_________________________________________________________________\n",
            "Layer (type)                 Output Shape              Param #   \n",
            "=================================================================\n",
            "conv1d_22 (Conv1D)           (None, 11, 100)           1075300   \n",
            "_________________________________________________________________\n",
            "conv1d_23 (Conv1D)           (None, 11, 100)           30100     \n",
            "_________________________________________________________________\n",
            "dropout_7 (Dropout)          (None, 11, 100)           0         \n",
            "_________________________________________________________________\n",
            "max_pooling1d_11 (MaxPooling (None, 5, 100)            0         \n",
            "_________________________________________________________________\n",
            "lstm_11 (LSTM)               (None, 100)               80400     \n",
            "_________________________________________________________________\n",
            "flatten_11 (Flatten)         (None, 100)               0         \n",
            "_________________________________________________________________\n",
            "dense_14 (Dense)             (None, 1)                 101       \n",
            "=================================================================\n",
            "Total params: 1,185,901\n",
            "Trainable params: 1,185,901\n",
            "Non-trainable params: 0\n",
            "_________________________________________________________________\n"
          ],
          "name": "stdout"
        }
      ]
    }
  ]
}